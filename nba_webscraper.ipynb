{
 "cells": [
  {
   "cell_type": "code",
   "execution_count": null,
   "id": "9624e084-34ac-4ec0-b6a4-2dfde7ebf75a",
   "metadata": {},
   "outputs": [],
   "source": [
    "import os\n",
    "from bs4 import BeautifulSoup\n",
    "from playwright.async_api import async_playwright, TimeoutError as PlayWrightTimeout\n",
    "import time"
   ]
  },
  {
   "cell_type": "code",
   "execution_count": null,
   "id": "c822813f-2055-4db6-a08e-cd313568c972",
   "metadata": {},
   "outputs": [],
   "source": [
    "%pip install beautifulsoup4\n",
    "%pip install playwright"
   ]
  },
  {
   "cell_type": "code",
   "execution_count": null,
   "id": "fcf67498-6795-4113-bc87-5370d02b1619",
   "metadata": {},
   "outputs": [],
   "source": [
    "SEASONS = list(range(2023,2024))"
   ]
  },
  {
   "cell_type": "code",
   "execution_count": null,
   "id": "b8d16923-ed63-457e-a667-2ff0b4624407",
   "metadata": {},
   "outputs": [],
   "source": [
    "# Define directory paths\n",
    "DATA_DIR = \"data\"\n",
    "STANDINGS_DIR = os.path.join(DATA_DIR, \"standings\")\n",
    "SCORES_DIR = os.path.join(DATA_DIR, \"scores\")\n",
    "\n",
    "# Create directories\n",
    "os.makedirs(STANDINGS_DIR, exist_ok=True)\n",
    "os.makedirs(SCORES_DIR, exist_ok=True)\n",
    "\n",
    "# Check directories\n",
    "print(\"Directories created:\")\n",
    "print(os.listdir(DATA_DIR))"
   ]
  },
  {
   "cell_type": "code",
   "execution_count": null,
   "id": "5b6280fa-e745-4901-8d58-4858575cbd42",
   "metadata": {},
   "outputs": [],
   "source": [
    "!playwright install"
   ]
  },
  {
   "cell_type": "code",
   "execution_count": null,
   "id": "c8bb1f0f-68b8-44db-ae61-6e5c920506a7",
   "metadata": {},
   "outputs": [],
   "source": [
    "async def get_html(url, selector, sleep=2, retries=3): #function with parameters\n",
    "  html = None\n",
    "  for i in range(1, retries+1):\n",
    "    time.sleep(sleep * 1) #pauses program for a few seconds\n",
    "\n",
    "    try: #for errors\n",
    "      async with async_playwright() as p:\n",
    "        browser = await p.chromium.launch() #await turns synchronous\n",
    "        page = await browser.new_page()\n",
    "        await page.goto(url)\n",
    "        print(await page.title())\n",
    "        html = await page.inner_html(selector)\n",
    "    except PlayWrightTimeout:\n",
    "      print(f\"Timeout error on {url}\")\n",
    "      continue\n",
    "    else:\n",
    "      break\n",
    "  return html"
   ]
  },
  {
   "cell_type": "code",
   "execution_count": null,
   "id": "d7dfe15a-0905-481f-b490-6afb22338269",
   "metadata": {},
   "outputs": [],
   "source": [
    "async def scrape_season(season):\n",
    "  url = f\"https://www.basketball-reference.com/leagues/NBA_{season}_games.html\"\n",
    "  html = await get_html(url, \"#content .filter\")\n",
    "\n",
    "  soup = BeautifulSoup(html)\n",
    "  links = soup.find_all(\"a\")\n",
    "  href = [l[\"href\"] for l in links] #extract href\n",
    "  standings_pages = [f\"https://basketball-reference.com{l}\" for l in href] #href missing end portion of url, so we loop through all and add to url\n",
    "\n",
    "  for url in standings_pages:\n",
    "    save_path = os.path.join(STANDINGS_DIR, url.split(\"/\")[-1]) #save end part of url\n",
    "    if os.path.exists(save_path): #if exists dont scrape again\n",
    "      continue\n",
    "\n",
    "    html = await get_html(url, \"#all_schedule\")\n",
    "    with open(save_path, \"w+\") as f:\n",
    "        f.write(html)"
   ]
  },
  {
   "cell_type": "code",
   "execution_count": null,
   "id": "c8b91da4-c029-4be5-a059-8373f1832fb7",
   "metadata": {},
   "outputs": [],
   "source": [
    "for season in SEASONS:\n",
    "  await scrape_season(season)"
   ]
  },
  {
   "cell_type": "code",
   "execution_count": null,
   "id": "d5afd2e2-7027-493a-ba98-52af473bba02",
   "metadata": {},
   "outputs": [],
   "source": [
    "standings_files = os.listdir(STANDINGS_DIR)"
   ]
  },
  {
   "cell_type": "code",
   "execution_count": null,
   "id": "eb1fb2a5-504d-49ef-b643-ab17f7ba1e63",
   "metadata": {},
   "outputs": [],
   "source": [
    "#Parsing box scores\n",
    "async def scrape_game(standings_file):\n",
    "  with open(standings_file, 'r') as f:\n",
    "    html = f.read()\n",
    "  soup = BeautifulSoup(html)\n",
    "  links = soup.find_all(\"a\")\n",
    "  hrefs = [l.get(\"href\") for l in links]\n",
    "  box_scores = [l for l in hrefs if l and \"boxscore\" in l and \".html\" in l]\n",
    "  box_scores = [f\"https://basketball-reference.com{l}\" for l in box_scores]\n",
    "\n",
    "  for url in box_scores:\n",
    "    save_path = os.path.join(SCORES_DIR, url.split(\"/\")[-1])\n",
    "    if os.path.exists(save_path):\n",
    "      continue\n",
    "    html = await get_html(url, \"#content\")\n",
    "    if not html:\n",
    "      continue\n",
    "    with open(save_path, \"w+\", encoding='utf-8') as f:\n",
    "        f.write(html)\n"
   ]
  },
  {
   "cell_type": "code",
   "execution_count": null,
   "id": "d9e7903f-2014-4fcf-8118-8f616d3cd0b9",
   "metadata": {},
   "outputs": [],
   "source": [
    "standings_files = [s for s in standings_files if \".html\" in s]"
   ]
  },
  {
   "cell_type": "code",
   "execution_count": null,
   "id": "2e900bb1-d2bb-4e18-89ce-c564d082692f",
   "metadata": {},
   "outputs": [],
   "source": [
    "for f in standings_files:\n",
    "    filepath = os.path.join(STANDINGS_DIR, f)\n",
    "    await scrape_game(filepath)"
   ]
  },
  {
   "cell_type": "code",
   "execution_count": null,
   "id": "db33ae30-c1d4-4e91-9a5a-38b13746d3ee",
   "metadata": {},
   "outputs": [],
   "source": []
  }
 ],
 "metadata": {
  "kernelspec": {
   "display_name": "Python 3 (ipykernel)",
   "language": "python",
   "name": "python3"
  },
  "language_info": {
   "codemirror_mode": {
    "name": "ipython",
    "version": 3
   },
   "file_extension": ".py",
   "mimetype": "text/x-python",
   "name": "python",
   "nbconvert_exporter": "python",
   "pygments_lexer": "ipython3",
   "version": "3.11.7"
  }
 },
 "nbformat": 4,
 "nbformat_minor": 5
}
